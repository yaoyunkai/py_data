{
 "cells": [
  {
   "cell_type": "code",
   "id": "initial_id",
   "metadata": {
    "collapsed": true,
    "ExecuteTime": {
     "end_time": "2025-06-12T07:33:35.624794Z",
     "start_time": "2025-06-12T07:33:35.123208Z"
    }
   },
   "source": "import numpy as np",
   "outputs": [],
   "execution_count": 1
  },
  {
   "metadata": {},
   "cell_type": "markdown",
   "source": [
    "# numpy数组的属性\n",
    "\n",
    "每个数组都有属性，包括ndim（维数数量）、shape（每个维度的大小）、size（数组的总大小）和dtype（每个元素的类型）"
   ],
   "id": "791eb2b349b35e94"
  },
  {
   "metadata": {
    "ExecuteTime": {
     "end_time": "2025-06-12T07:34:48.059792Z",
     "start_time": "2025-06-12T07:34:48.050597Z"
    }
   },
   "cell_type": "code",
   "source": [
    "rng = np.random.default_rng(seed=1701)  # seed for reproducibility\n",
    "\n",
    "x1 = rng.integers(10, size=6)  # one-dimensional array\n",
    "x2 = rng.integers(10, size=(3, 4))  # two-dimensional array\n",
    "x3 = rng.integers(10, size=(3, 4, 5))  # three-dimensional array"
   ],
   "id": "8dfac91db9902a76",
   "outputs": [],
   "execution_count": 2
  },
  {
   "metadata": {
    "ExecuteTime": {
     "end_time": "2025-06-12T07:36:55.026768Z",
     "start_time": "2025-06-12T07:36:55.014918Z"
    }
   },
   "cell_type": "code",
   "source": [
    "print(f'x3 ndim   : {x3.ndim}')\n",
    "print(f'x3 shape  : {x3.shape}')\n",
    "print(f'x3 size   : {x3.size}')\n",
    "print(f'x3 dtype  : {x3.dtype}')"
   ],
   "id": "5ebe1f9f0c5a6ba9",
   "outputs": [
    {
     "name": "stdout",
     "output_type": "stream",
     "text": [
      "x3 ndim   : 3\n",
      "x3 shape  : (3, 4, 5)\n",
      "x3 size   : 60\n",
      "x3 dtype  : int64\n"
     ]
    }
   ],
   "execution_count": 3
  },
  {
   "metadata": {},
   "cell_type": "markdown",
   "source": "# numpy的相关操作\n",
   "id": "90cae4c14264e6f"
  },
  {
   "metadata": {},
   "cell_type": "code",
   "outputs": [],
   "execution_count": null,
   "source": "",
   "id": "d5d6901b0b7bf75c"
  }
 ],
 "metadata": {
  "kernelspec": {
   "display_name": "Python 3",
   "language": "python",
   "name": "python3"
  },
  "language_info": {
   "codemirror_mode": {
    "name": "ipython",
    "version": 2
   },
   "file_extension": ".py",
   "mimetype": "text/x-python",
   "name": "python",
   "nbconvert_exporter": "python",
   "pygments_lexer": "ipython2",
   "version": "2.7.6"
  }
 },
 "nbformat": 4,
 "nbformat_minor": 5
}
