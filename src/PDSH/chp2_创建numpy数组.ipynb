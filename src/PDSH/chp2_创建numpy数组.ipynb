{
 "cells": [
  {
   "cell_type": "code",
   "id": "initial_id",
   "metadata": {
    "ExecuteTime": {
     "end_time": "2025-06-12T07:23:11.020523Z",
     "start_time": "2025-06-12T07:23:10.725108Z"
    }
   },
   "source": "import numpy as np",
   "outputs": [],
   "execution_count": 1
  },
  {
   "cell_type": "markdown",
   "id": "42196985484bca4",
   "metadata": {},
   "source": [
    "# numpy 创建ndarray的方式\n",
    "\n",
    "- np.array 从python的列表创建\n",
    "- np.zeros np.empty np.ones 从零开始创建列表\n"
   ]
  },
  {
   "cell_type": "code",
   "id": "dd8608ac3ea3ebe6",
   "metadata": {
    "ExecuteTime": {
     "end_time": "2025-06-12T07:23:11.526793Z",
     "start_time": "2025-06-12T07:23:11.517515Z"
    }
   },
   "source": "np.array([1, 2, 3, 4, 5])",
   "outputs": [
    {
     "data": {
      "text/plain": [
       "array([1, 2, 3, 4, 5])"
      ]
     },
     "execution_count": 2,
     "metadata": {},
     "output_type": "execute_result"
    }
   ],
   "execution_count": 2
  },
  {
   "cell_type": "code",
   "id": "6d13131e-4654-4800-97cb-a333f39a515c",
   "metadata": {
    "ExecuteTime": {
     "end_time": "2025-06-12T07:23:11.572243Z",
     "start_time": "2025-06-12T07:23:11.565142Z"
    }
   },
   "source": [
    "# 显示指定数组的数据类型\n",
    "\n",
    "np.array([1, 2, 3, 4, 5, 6], dtype=np.float32)"
   ],
   "outputs": [
    {
     "data": {
      "text/plain": [
       "array([1., 2., 3., 4., 5., 6.], dtype=float32)"
      ]
     },
     "execution_count": 3,
     "metadata": {},
     "output_type": "execute_result"
    }
   ],
   "execution_count": 3
  },
  {
   "metadata": {
    "ExecuteTime": {
     "end_time": "2025-06-12T07:23:11.593495Z",
     "start_time": "2025-06-12T07:23:11.586267Z"
    }
   },
   "cell_type": "code",
   "source": "np.zeros(10, dtype=np.int32)",
   "id": "dc731241f36730a0",
   "outputs": [
    {
     "data": {
      "text/plain": [
       "array([0, 0, 0, 0, 0, 0, 0, 0, 0, 0])"
      ]
     },
     "execution_count": 4,
     "metadata": {},
     "output_type": "execute_result"
    }
   ],
   "execution_count": 4
  },
  {
   "metadata": {
    "ExecuteTime": {
     "end_time": "2025-06-12T07:23:11.654287Z",
     "start_time": "2025-06-12T07:23:11.648449Z"
    }
   },
   "cell_type": "code",
   "source": "np.ones((3, 5), dtype=np.float64)",
   "id": "fd23c2defcd1bb39",
   "outputs": [
    {
     "data": {
      "text/plain": [
       "array([[1., 1., 1., 1., 1.],\n",
       "       [1., 1., 1., 1., 1.],\n",
       "       [1., 1., 1., 1., 1.]])"
      ]
     },
     "execution_count": 5,
     "metadata": {},
     "output_type": "execute_result"
    }
   ],
   "execution_count": 5
  },
  {
   "metadata": {
    "ExecuteTime": {
     "end_time": "2025-06-12T07:23:12.558815Z",
     "start_time": "2025-06-12T07:23:12.551328Z"
    }
   },
   "cell_type": "code",
   "source": "np.arange(0, 20, 2, dtype=np.int32)",
   "id": "55db6fa32ca63582",
   "outputs": [
    {
     "data": {
      "text/plain": [
       "array([ 0,  2,  4,  6,  8, 10, 12, 14, 16, 18])"
      ]
     },
     "execution_count": 6,
     "metadata": {},
     "output_type": "execute_result"
    }
   ],
   "execution_count": 6
  },
  {
   "metadata": {
    "ExecuteTime": {
     "end_time": "2025-06-12T07:23:12.677196Z",
     "start_time": "2025-06-12T07:23:12.669282Z"
    }
   },
   "cell_type": "code",
   "source": "np.linspace(1, 10, 100)",
   "id": "31c73c51298d2ce0",
   "outputs": [
    {
     "data": {
      "text/plain": [
       "array([ 1.        ,  1.09090909,  1.18181818,  1.27272727,  1.36363636,\n",
       "        1.45454545,  1.54545455,  1.63636364,  1.72727273,  1.81818182,\n",
       "        1.90909091,  2.        ,  2.09090909,  2.18181818,  2.27272727,\n",
       "        2.36363636,  2.45454545,  2.54545455,  2.63636364,  2.72727273,\n",
       "        2.81818182,  2.90909091,  3.        ,  3.09090909,  3.18181818,\n",
       "        3.27272727,  3.36363636,  3.45454545,  3.54545455,  3.63636364,\n",
       "        3.72727273,  3.81818182,  3.90909091,  4.        ,  4.09090909,\n",
       "        4.18181818,  4.27272727,  4.36363636,  4.45454545,  4.54545455,\n",
       "        4.63636364,  4.72727273,  4.81818182,  4.90909091,  5.        ,\n",
       "        5.09090909,  5.18181818,  5.27272727,  5.36363636,  5.45454545,\n",
       "        5.54545455,  5.63636364,  5.72727273,  5.81818182,  5.90909091,\n",
       "        6.        ,  6.09090909,  6.18181818,  6.27272727,  6.36363636,\n",
       "        6.45454545,  6.54545455,  6.63636364,  6.72727273,  6.81818182,\n",
       "        6.90909091,  7.        ,  7.09090909,  7.18181818,  7.27272727,\n",
       "        7.36363636,  7.45454545,  7.54545455,  7.63636364,  7.72727273,\n",
       "        7.81818182,  7.90909091,  8.        ,  8.09090909,  8.18181818,\n",
       "        8.27272727,  8.36363636,  8.45454545,  8.54545455,  8.63636364,\n",
       "        8.72727273,  8.81818182,  8.90909091,  9.        ,  9.09090909,\n",
       "        9.18181818,  9.27272727,  9.36363636,  9.45454545,  9.54545455,\n",
       "        9.63636364,  9.72727273,  9.81818182,  9.90909091, 10.        ])"
      ]
     },
     "execution_count": 7,
     "metadata": {},
     "output_type": "execute_result"
    }
   ],
   "execution_count": 7
  },
  {
   "metadata": {
    "ExecuteTime": {
     "end_time": "2025-06-12T07:23:12.762669Z",
     "start_time": "2025-06-12T07:23:12.756441Z"
    }
   },
   "cell_type": "code",
   "source": "np.random.random((3, 3))",
   "id": "be93907fc44e6f2b",
   "outputs": [
    {
     "data": {
      "text/plain": [
       "array([[0.78220644, 0.95387909, 0.86361072],\n",
       "       [0.50684219, 0.21918232, 0.6086658 ],\n",
       "       [0.76703682, 0.69777555, 0.8825596 ]])"
      ]
     },
     "execution_count": 8,
     "metadata": {},
     "output_type": "execute_result"
    }
   ],
   "execution_count": 8
  },
  {
   "metadata": {
    "ExecuteTime": {
     "end_time": "2025-06-12T07:23:12.873433Z",
     "start_time": "2025-06-12T07:23:12.865759Z"
    }
   },
   "cell_type": "code",
   "source": [
    "# 正太分布\n",
    "np.random.normal(0, 1, (100,))"
   ],
   "id": "5a1b103f7d35be0b",
   "outputs": [
    {
     "data": {
      "text/plain": [
       "array([ 2.43098693, -0.0295464 ,  1.8039694 ,  2.17589967,  1.34276729,\n",
       "       -1.41127722, -1.30471581, -0.73798249,  0.90154318,  2.0802134 ,\n",
       "        0.60531477,  1.14562833,  1.99718062,  0.64733367,  0.54893707,\n",
       "       -0.4952209 ,  0.26135477,  0.99454865,  1.15778093,  0.68437981,\n",
       "        1.28549221,  1.07881706, -1.67638638, -1.34490826, -0.5510273 ,\n",
       "       -0.77826679,  1.49188159,  1.64404851,  0.98770164, -0.38555743,\n",
       "       -1.20087857, -1.27197084,  0.15573252,  1.14134141,  0.23505274,\n",
       "        1.0095826 ,  0.64563545,  1.02039722,  0.02292653, -0.45279123,\n",
       "       -1.50611662, -1.0876785 ,  1.1215282 ,  1.00507047, -0.91380514,\n",
       "        0.54242981,  1.38358474,  1.31576436,  1.08143777,  0.27884462,\n",
       "       -0.57674977, -0.28805952,  0.39481293, -2.77460608,  0.98631506,\n",
       "        0.23254726,  2.23083819, -2.14027538, -0.36030772, -0.55590874,\n",
       "       -0.97700989, -0.06261438, -1.38912264, -0.11871997,  0.0301972 ,\n",
       "        1.26598748,  0.57466313,  0.87568448, -0.53800894,  0.87546645,\n",
       "       -0.72383158,  1.59934773,  1.08722743,  1.46609274, -2.8420613 ,\n",
       "       -2.0342276 ,  1.86101362, -0.66612834,  0.08095652,  2.5147866 ,\n",
       "        1.05521923,  1.20540655,  0.0641724 ,  1.15043941,  0.88649774,\n",
       "        0.14901238, -0.75723261,  0.35747337, -1.00796713,  0.09768824,\n",
       "        0.6721884 , -0.93043454,  1.45981071, -0.27770339,  0.56855521,\n",
       "       -0.03351003,  1.06288869, -1.84516123, -1.30374839, -1.53578677])"
      ]
     },
     "execution_count": 9,
     "metadata": {},
     "output_type": "execute_result"
    }
   ],
   "execution_count": 9
  },
  {
   "metadata": {
    "ExecuteTime": {
     "end_time": "2025-06-12T07:23:13.026069Z",
     "start_time": "2025-06-12T07:23:13.019336Z"
    }
   },
   "cell_type": "code",
   "source": "np.eye(3, 3)",
   "id": "979aa2da510c6a2",
   "outputs": [
    {
     "data": {
      "text/plain": [
       "array([[1., 0., 0.],\n",
       "       [0., 1., 0.],\n",
       "       [0., 0., 1.]])"
      ]
     },
     "execution_count": 10,
     "metadata": {},
     "output_type": "execute_result"
    }
   ],
   "execution_count": 10
  },
  {
   "metadata": {
    "ExecuteTime": {
     "end_time": "2025-06-12T07:23:13.134303Z",
     "start_time": "2025-06-12T07:23:13.126571Z"
    }
   },
   "cell_type": "code",
   "source": "np.empty((2, 1))",
   "id": "9be21f382bafacdb",
   "outputs": [
    {
     "data": {
      "text/plain": [
       "array([[ 6.04487664e-69],\n",
       "       [-4.01495755e-93]])"
      ]
     },
     "execution_count": 11,
     "metadata": {},
     "output_type": "execute_result"
    }
   ],
   "execution_count": 11
  },
  {
   "metadata": {},
   "cell_type": "markdown",
   "source": [
    "# numpy的数据类型\n",
    "\n",
    "```\n",
    "bool_\n",
    "int_\n",
    "intc  c语言的int类型\n",
    "intp  integer for索引\n",
    "int8\n",
    "int16\n",
    "int32\n",
    "int64\n",
    "uint8  uint16 uint32 uint64\n",
    "\n",
    "float_  same as float64\n",
    "float16 float32 float64\n",
    "\n",
    "complex_   complex64 complex128\n",
    "\n",
    "```"
   ],
   "id": "a2f885ffa98388f6"
  }
 ],
 "metadata": {
  "kernelspec": {
   "display_name": "Python 3 (ipykernel)",
   "language": "python",
   "name": "python3"
  },
  "language_info": {
   "codemirror_mode": {
    "name": "ipython",
    "version": 3
   },
   "file_extension": ".py",
   "mimetype": "text/x-python",
   "name": "python",
   "nbconvert_exporter": "python",
   "pygments_lexer": "ipython3",
   "version": "3.11.4"
  }
 },
 "nbformat": 4,
 "nbformat_minor": 5
}
