{
 "cells": [
  {
   "cell_type": "code",
   "id": "initial_id",
   "metadata": {
    "ExecuteTime": {
     "end_time": "2025-06-13T16:18:02.287030Z",
     "start_time": "2025-06-13T16:18:02.220113Z"
    }
   },
   "source": [
    "import numpy as np"
   ],
   "outputs": [],
   "execution_count": 1
  },
  {
   "cell_type": "markdown",
   "id": "42196985484bca4",
   "metadata": {},
   "source": [
    "# numpy 创建ndarray的方式\n",
    "\n",
    "- np.array 从python的列表创建\n",
    "- np.zeros np.empty np.ones 从零开始创建列表\n"
   ]
  },
  {
   "cell_type": "code",
   "id": "dd8608ac3ea3ebe6",
   "metadata": {
    "ExecuteTime": {
     "end_time": "2025-06-13T16:18:02.301771Z",
     "start_time": "2025-06-13T16:18:02.296774Z"
    }
   },
   "source": [
    "np.array([1, 2, 3, 4, 5])"
   ],
   "outputs": [
    {
     "data": {
      "text/plain": [
       "array([1, 2, 3, 4, 5])"
      ]
     },
     "execution_count": 2,
     "metadata": {},
     "output_type": "execute_result"
    }
   ],
   "execution_count": 2
  },
  {
   "cell_type": "code",
   "id": "6d13131e-4654-4800-97cb-a333f39a515c",
   "metadata": {
    "ExecuteTime": {
     "end_time": "2025-06-13T16:18:02.481745Z",
     "start_time": "2025-06-13T16:18:02.476616Z"
    }
   },
   "source": [
    "# 显示指定数组的数据类型\n",
    "\n",
    "np.array([1, 2, 3, 4, 5, 6], dtype=np.float32)"
   ],
   "outputs": [
    {
     "data": {
      "text/plain": [
       "array([1., 2., 3., 4., 5., 6.], dtype=float32)"
      ]
     },
     "execution_count": 3,
     "metadata": {},
     "output_type": "execute_result"
    }
   ],
   "execution_count": 3
  },
  {
   "cell_type": "code",
   "id": "dc731241f36730a0",
   "metadata": {
    "ExecuteTime": {
     "end_time": "2025-06-13T16:18:02.553954Z",
     "start_time": "2025-06-13T16:18:02.545220Z"
    }
   },
   "source": [
    "np.zeros(10, dtype=np.int32)"
   ],
   "outputs": [
    {
     "data": {
      "text/plain": [
       "array([0, 0, 0, 0, 0, 0, 0, 0, 0, 0])"
      ]
     },
     "execution_count": 4,
     "metadata": {},
     "output_type": "execute_result"
    }
   ],
   "execution_count": 4
  },
  {
   "cell_type": "code",
   "id": "fd23c2defcd1bb39",
   "metadata": {
    "ExecuteTime": {
     "end_time": "2025-06-13T16:18:02.605397Z",
     "start_time": "2025-06-13T16:18:02.601485Z"
    }
   },
   "source": [
    "np.ones((3, 5), dtype=np.float64)"
   ],
   "outputs": [
    {
     "data": {
      "text/plain": [
       "array([[1., 1., 1., 1., 1.],\n",
       "       [1., 1., 1., 1., 1.],\n",
       "       [1., 1., 1., 1., 1.]])"
      ]
     },
     "execution_count": 5,
     "metadata": {},
     "output_type": "execute_result"
    }
   ],
   "execution_count": 5
  },
  {
   "cell_type": "code",
   "id": "55db6fa32ca63582",
   "metadata": {
    "ExecuteTime": {
     "end_time": "2025-06-13T16:18:02.883931Z",
     "start_time": "2025-06-13T16:18:02.880438Z"
    }
   },
   "source": [
    "np.arange(0, 20, 2, dtype=np.int32)"
   ],
   "outputs": [
    {
     "data": {
      "text/plain": [
       "array([ 0,  2,  4,  6,  8, 10, 12, 14, 16, 18])"
      ]
     },
     "execution_count": 6,
     "metadata": {},
     "output_type": "execute_result"
    }
   ],
   "execution_count": 6
  },
  {
   "cell_type": "code",
   "id": "31c73c51298d2ce0",
   "metadata": {
    "ExecuteTime": {
     "end_time": "2025-06-13T16:18:03.270910Z",
     "start_time": "2025-06-13T16:18:03.264639Z"
    }
   },
   "source": [
    "np.linspace(1, 10, 100)"
   ],
   "outputs": [
    {
     "data": {
      "text/plain": [
       "array([ 1.        ,  1.09090909,  1.18181818,  1.27272727,  1.36363636,\n",
       "        1.45454545,  1.54545455,  1.63636364,  1.72727273,  1.81818182,\n",
       "        1.90909091,  2.        ,  2.09090909,  2.18181818,  2.27272727,\n",
       "        2.36363636,  2.45454545,  2.54545455,  2.63636364,  2.72727273,\n",
       "        2.81818182,  2.90909091,  3.        ,  3.09090909,  3.18181818,\n",
       "        3.27272727,  3.36363636,  3.45454545,  3.54545455,  3.63636364,\n",
       "        3.72727273,  3.81818182,  3.90909091,  4.        ,  4.09090909,\n",
       "        4.18181818,  4.27272727,  4.36363636,  4.45454545,  4.54545455,\n",
       "        4.63636364,  4.72727273,  4.81818182,  4.90909091,  5.        ,\n",
       "        5.09090909,  5.18181818,  5.27272727,  5.36363636,  5.45454545,\n",
       "        5.54545455,  5.63636364,  5.72727273,  5.81818182,  5.90909091,\n",
       "        6.        ,  6.09090909,  6.18181818,  6.27272727,  6.36363636,\n",
       "        6.45454545,  6.54545455,  6.63636364,  6.72727273,  6.81818182,\n",
       "        6.90909091,  7.        ,  7.09090909,  7.18181818,  7.27272727,\n",
       "        7.36363636,  7.45454545,  7.54545455,  7.63636364,  7.72727273,\n",
       "        7.81818182,  7.90909091,  8.        ,  8.09090909,  8.18181818,\n",
       "        8.27272727,  8.36363636,  8.45454545,  8.54545455,  8.63636364,\n",
       "        8.72727273,  8.81818182,  8.90909091,  9.        ,  9.09090909,\n",
       "        9.18181818,  9.27272727,  9.36363636,  9.45454545,  9.54545455,\n",
       "        9.63636364,  9.72727273,  9.81818182,  9.90909091, 10.        ])"
      ]
     },
     "execution_count": 7,
     "metadata": {},
     "output_type": "execute_result"
    }
   ],
   "execution_count": 7
  },
  {
   "cell_type": "code",
   "id": "be93907fc44e6f2b",
   "metadata": {
    "ExecuteTime": {
     "end_time": "2025-06-13T16:18:03.329931Z",
     "start_time": "2025-06-13T16:18:03.325879Z"
    }
   },
   "source": [
    "np.random.random((3, 3))"
   ],
   "outputs": [
    {
     "data": {
      "text/plain": [
       "array([[0.06515931, 0.16806561, 0.08237602],\n",
       "       [0.89101621, 0.6833174 , 0.35042541],\n",
       "       [0.81933047, 0.85634148, 0.39342466]])"
      ]
     },
     "execution_count": 8,
     "metadata": {},
     "output_type": "execute_result"
    }
   ],
   "execution_count": 8
  },
  {
   "cell_type": "code",
   "id": "5a1b103f7d35be0b",
   "metadata": {
    "ExecuteTime": {
     "end_time": "2025-06-13T16:18:03.434011Z",
     "start_time": "2025-06-13T16:18:03.429416Z"
    }
   },
   "source": [
    "# 正态分布\n",
    "np.random.normal(0, 1, (100,))"
   ],
   "outputs": [
    {
     "data": {
      "text/plain": [
       "array([ 1.36532292e-01,  1.74331925e+00, -2.62481671e-01,  9.67979013e-01,\n",
       "        8.12295728e-01,  4.04369377e-01,  2.42182986e+00, -1.67371937e+00,\n",
       "        2.07492926e+00, -1.88594453e+00, -3.51807310e-01,  3.44392718e-01,\n",
       "       -1.48486298e+00,  2.87960686e-01,  1.92310738e+00,  2.52367352e-01,\n",
       "        6.93099869e-01,  1.05681134e+00,  1.08142656e+00,  2.12758409e-01,\n",
       "        5.05402680e-01,  2.32870482e+00,  9.10933321e-01, -1.55605286e+00,\n",
       "        4.78888998e-01, -1.68745712e-01, -4.05145513e-01,  2.33677972e-01,\n",
       "       -1.62299687e+00,  1.50272204e+00, -3.16823197e-01,  1.10762391e+00,\n",
       "       -9.28610048e-01, -5.68825345e-01, -4.53228145e-01,  1.30756526e-01,\n",
       "        6.35596646e-01, -3.25553921e-01, -9.03160595e-01, -2.20679042e+00,\n",
       "       -1.62433186e+00,  7.49864358e-01, -1.31584512e+00, -1.60381575e-01,\n",
       "        1.48888444e+00, -3.89998842e-01,  4.69828248e-01,  4.69585980e-01,\n",
       "       -8.43227541e-01,  4.46360923e-01,  2.31129743e+00,  6.05136032e-01,\n",
       "        1.52194841e-01,  1.31904970e+00, -2.48335626e-01,  8.21106497e-02,\n",
       "        5.68553289e-01, -4.50607918e-01, -1.09389656e+00, -1.04165796e+00,\n",
       "       -4.50429163e-01, -2.71980118e-01,  1.28267485e+00,  1.20053820e+00,\n",
       "       -6.70333679e-01, -2.14231186e-01, -3.55982672e-01, -6.08214926e-01,\n",
       "       -8.92452101e-01,  8.42884215e-01,  1.17261165e+00,  1.45778001e+00,\n",
       "        8.45361154e-02, -7.58432683e-01, -9.45417355e-01,  1.15501130e-03,\n",
       "        3.00778699e-01,  1.17429072e+00,  3.80211159e-01,  7.79429517e-01,\n",
       "       -1.66321685e+00, -1.89226512e+00, -2.10524051e-01, -1.48389091e+00,\n",
       "       -3.13700317e-01, -3.04466535e-02, -1.75649853e+00,  7.60108033e-01,\n",
       "        3.49340117e+00, -6.87811764e-01,  2.30247931e+00, -7.25088565e-01,\n",
       "       -1.57762745e+00,  2.15429494e-01,  2.07090095e-01,  1.79605836e+00,\n",
       "       -3.63250168e-01, -1.67830126e+00,  8.85130783e-01,  7.23792004e-01])"
      ]
     },
     "execution_count": 9,
     "metadata": {},
     "output_type": "execute_result"
    }
   ],
   "execution_count": 9
  },
  {
   "cell_type": "code",
   "id": "979aa2da510c6a2",
   "metadata": {
    "ExecuteTime": {
     "end_time": "2025-06-13T16:18:03.591882Z",
     "start_time": "2025-06-13T16:18:03.580534Z"
    }
   },
   "source": [
    "np.eye(3, 3)"
   ],
   "outputs": [
    {
     "data": {
      "text/plain": [
       "array([[1., 0., 0.],\n",
       "       [0., 1., 0.],\n",
       "       [0., 0., 1.]])"
      ]
     },
     "execution_count": 10,
     "metadata": {},
     "output_type": "execute_result"
    }
   ],
   "execution_count": 10
  },
  {
   "cell_type": "code",
   "id": "9be21f382bafacdb",
   "metadata": {
    "ExecuteTime": {
     "end_time": "2025-06-13T16:18:03.676086Z",
     "start_time": "2025-06-13T16:18:03.671941Z"
    }
   },
   "source": [
    "np.empty((2, 1))"
   ],
   "outputs": [
    {
     "data": {
      "text/plain": [
       "array([[-5.35546682e+022],\n",
       "       [-2.80415985e-136]])"
      ]
     },
     "execution_count": 11,
     "metadata": {},
     "output_type": "execute_result"
    }
   ],
   "execution_count": 11
  },
  {
   "metadata": {},
   "cell_type": "markdown",
   "source": [
    "# numpy的数据类型\n",
    "\n",
    "```\n",
    "bool_\n",
    "int_\n",
    "intc  c语言的int类型\n",
    "intp  integer for索引\n",
    "int8\n",
    "int16\n",
    "int32\n",
    "int64\n",
    "uint8  uint16 uint32 uint64\n",
    "\n",
    "float_  same as float64\n",
    "float16 float32 float64\n",
    "\n",
    "complex_   complex64 complex128\n",
    "\n",
    "```\n",
    "\n",
    "other things..."
   ],
   "id": "d87f479532d5cc62"
  },
  {
   "cell_type": "code",
   "id": "eb52b660-5cc0-4e3c-af96-086b703dd6b4",
   "metadata": {
    "ExecuteTime": {
     "end_time": "2025-06-13T16:18:03.813468Z",
     "start_time": "2025-06-13T16:18:03.807740Z"
    }
   },
   "source": [],
   "outputs": [],
   "execution_count": null
  }
 ],
 "metadata": {
  "kernelspec": {
   "display_name": "Python 3 (ipykernel)",
   "language": "python",
   "name": "python3"
  },
  "language_info": {
   "codemirror_mode": {
    "name": "ipython",
    "version": 3
   },
   "file_extension": ".py",
   "mimetype": "text/x-python",
   "name": "python",
   "nbconvert_exporter": "python",
   "pygments_lexer": "ipython3",
   "version": "3.11.9"
  }
 },
 "nbformat": 4,
 "nbformat_minor": 5
}
