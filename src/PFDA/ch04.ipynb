{
 "cells": [
  {
   "cell_type": "code",
   "id": "f6e4ef45-3882-4069-bcfb-5261c5b310b6",
   "metadata": {
    "ExecuteTime": {
     "end_time": "2025-06-11T03:56:19.210673Z",
     "start_time": "2025-06-11T03:56:17.939054Z"
    }
   },
   "source": [
    "import numpy as np\n",
    "\n",
    "np.random.seed(12345)\n",
    "import matplotlib.pyplot as plt\n",
    "\n",
    "plt.rc(\"figure\", figsize=(10, 6))\n",
    "np.set_printoptions(precision=4, suppress=True)"
   ],
   "outputs": [],
   "execution_count": 1
  },
  {
   "metadata": {
    "ExecuteTime": {
     "end_time": "2025-06-11T03:56:19.693270Z",
     "start_time": "2025-06-11T03:56:19.675856Z"
    }
   },
   "cell_type": "code",
   "source": [
    "my_arr = np.arange(1_000_000)\n",
    "my_list = list(range(1_000_000))"
   ],
   "id": "775cca2057f37c80",
   "outputs": [],
   "execution_count": 2
  },
  {
   "metadata": {
    "ExecuteTime": {
     "end_time": "2025-06-11T03:56:19.734923Z",
     "start_time": "2025-06-11T03:56:19.729417Z"
    }
   },
   "cell_type": "code",
   "source": [
    "# %timeit my_arr2 = my_arr * 2\n",
    "# %timeit my_list2 = [x * 2 for x in my_list]\n"
   ],
   "id": "58db96f2145c0def",
   "outputs": [],
   "execution_count": 3
  },
  {
   "metadata": {
    "ExecuteTime": {
     "end_time": "2025-06-11T03:56:19.759133Z",
     "start_time": "2025-06-11T03:56:19.749817Z"
    }
   },
   "cell_type": "code",
   "source": [
    "data = np.array([[1.5, -0.1, 3], [0, -3, 6.5]])\n",
    "data"
   ],
   "id": "844e55da14a8d728",
   "outputs": [
    {
     "data": {
      "text/plain": [
       "array([[ 1.5, -0.1,  3. ],\n",
       "       [ 0. , -3. ,  6.5]])"
      ]
     },
     "execution_count": 4,
     "metadata": {},
     "output_type": "execute_result"
    }
   ],
   "execution_count": 4
  },
  {
   "metadata": {
    "ExecuteTime": {
     "end_time": "2025-06-11T03:56:21.007905Z",
     "start_time": "2025-06-11T03:56:21.000489Z"
    }
   },
   "cell_type": "code",
   "source": "data * 10\n",
   "id": "dcb0f641e6acd930",
   "outputs": [
    {
     "data": {
      "text/plain": [
       "array([[ 15.,  -1.,  30.],\n",
       "       [  0., -30.,  65.]])"
      ]
     },
     "execution_count": 5,
     "metadata": {},
     "output_type": "execute_result"
    }
   ],
   "execution_count": 5
  },
  {
   "metadata": {
    "ExecuteTime": {
     "end_time": "2025-06-11T03:56:21.137060Z",
     "start_time": "2025-06-11T03:56:21.130360Z"
    }
   },
   "cell_type": "code",
   "source": "data + data",
   "id": "ba11ffb23c969058",
   "outputs": [
    {
     "data": {
      "text/plain": [
       "array([[ 3. , -0.2,  6. ],\n",
       "       [ 0. , -6. , 13. ]])"
      ]
     },
     "execution_count": 6,
     "metadata": {},
     "output_type": "execute_result"
    }
   ],
   "execution_count": 6
  },
  {
   "metadata": {
    "ExecuteTime": {
     "end_time": "2025-06-11T03:56:21.334641Z",
     "start_time": "2025-06-11T03:56:21.329136Z"
    }
   },
   "cell_type": "code",
   "source": [
    "# 查看数据的维度和类型\n",
    "\n",
    "print(data.shape)\n",
    "print(data.dtype)\n",
    "print(data.ndim)\n"
   ],
   "id": "bd2f4b3097023edd",
   "outputs": [
    {
     "name": "stdout",
     "output_type": "stream",
     "text": [
      "(2, 3)\n",
      "float64\n",
      "2\n"
     ]
    }
   ],
   "execution_count": 7
  },
  {
   "metadata": {},
   "cell_type": "markdown",
   "source": [
    "# 创建ndarray数组的方式\n",
    "\n",
    "## np.array\n",
    "\n",
    "## 创建空数组\n",
    "\n",
    "`np.zeros`\n",
    "\n",
    "`np.ones`\n",
    "\n",
    "`np.empty`\n",
    "\n",
    "## 创建序列\n",
    "\n",
    "`np.arange`\n",
    "\n",
    "## 其他的创建方式\n",
    "\n",
    "![numpy数组创建方式](./img/img1.png \"numpy数组的创建方式\")\n",
    "\n",
    "![numpy数组创建方式](./img/img2.png \"numpy数组的创建方式\")\n"
   ],
   "id": "33d80a5f057a7be"
  },
  {
   "metadata": {
    "ExecuteTime": {
     "end_time": "2025-06-11T03:56:21.444518Z",
     "start_time": "2025-06-11T03:56:21.436939Z"
    }
   },
   "cell_type": "code",
   "source": [
    "np.zeros(10)\n",
    "np.zeros((3, 6))\n",
    "np.empty((2, 3, 2))"
   ],
   "id": "7050947f4a3b59ae",
   "outputs": [
    {
     "data": {
      "text/plain": [
       "array([[[1.6021e-311, 2.4703e-322],\n",
       "        [0.0000e+000, 0.0000e+000],\n",
       "        [8.3444e-308, 1.3366e+160]],\n",
       "\n",
       "       [[7.1194e-091, 3.1129e-032],\n",
       "        [2.8295e-033, 1.9197e-052],\n",
       "        [3.9991e+252, 4.9343e+257]]])"
      ]
     },
     "execution_count": 8,
     "metadata": {},
     "output_type": "execute_result"
    }
   ],
   "execution_count": 8
  },
  {
   "metadata": {},
   "cell_type": "markdown",
   "source": [
    "# ndarray 的数据类型\n",
    "\n",
    "![ndarray的数据类型](./img/img3.png \"ndarray的数据类型\")\n",
    "\n",
    "## ndarray数据类型的转换\n",
    "\n",
    "通过 `astype` 转换ndarray的数据类型。\n"
   ],
   "id": "e691e035e2c20013"
  },
  {
   "metadata": {
    "ExecuteTime": {
     "end_time": "2025-06-11T03:56:21.499152Z",
     "start_time": "2025-06-11T03:56:21.492201Z"
    }
   },
   "cell_type": "code",
   "source": [
    "arr1 = np.array([1, 2, 3], dtype=np.float64)\n",
    "arr2 = np.array([1, 2, 3], dtype=np.int32)\n",
    "arr2.dtype"
   ],
   "id": "f131905340f95608",
   "outputs": [
    {
     "data": {
      "text/plain": [
       "dtype('int32')"
      ]
     },
     "execution_count": 9,
     "metadata": {},
     "output_type": "execute_result"
    }
   ],
   "execution_count": 9
  },
  {
   "metadata": {
    "ExecuteTime": {
     "end_time": "2025-06-11T03:56:21.556492Z",
     "start_time": "2025-06-11T03:56:21.544686Z"
    }
   },
   "cell_type": "code",
   "source": [
    "numeric_strings = np.array([\"1.25\", \"-9.6\", \"42\"], dtype=np.string_)\n",
    "new_arr = numeric_strings.astype(float)\n",
    "\n",
    "print(new_arr.dtype)\n",
    "print(new_arr)"
   ],
   "id": "f5211f0666f05eb1",
   "outputs": [
    {
     "name": "stdout",
     "output_type": "stream",
     "text": [
      "float64\n",
      "[ 1.25 -9.6  42.  ]\n"
     ]
    }
   ],
   "execution_count": 10
  },
  {
   "metadata": {},
   "cell_type": "markdown",
   "source": [
    "# numpy数组的运算\n",
    "\n",
    "- 数组很重要，因为它不用编写循环即可对数据执行批量运算，NumPy用户称其为向量化(vectorization)。大小相等的数组之间的任何算术运算都会将运算应用到元素级\n",
    "- 数组与标量的算术运算会将标量值传播到数组中的各个元素\n",
    "- 大小相同的数组之间的比较会生成布尔值数组\n",
    "- 不同大小的数组之间的运算称为广播"
   ],
   "id": "9c0afa90e65dc3de"
  },
  {
   "metadata": {
    "ExecuteTime": {
     "end_time": "2025-06-11T03:56:21.596122Z",
     "start_time": "2025-06-11T03:56:21.588775Z"
    }
   },
   "cell_type": "code",
   "source": [
    "arr = np.array([[1., 2., 3.], [4., 5., 6.]])\n",
    "\n",
    "arr * arr"
   ],
   "id": "b597cee4e4ad0513",
   "outputs": [
    {
     "data": {
      "text/plain": [
       "array([[ 1.,  4.,  9.],\n",
       "       [16., 25., 36.]])"
      ]
     },
     "execution_count": 11,
     "metadata": {},
     "output_type": "execute_result"
    }
   ],
   "execution_count": 11
  },
  {
   "metadata": {
    "ExecuteTime": {
     "end_time": "2025-06-11T03:56:21.687553Z",
     "start_time": "2025-06-11T03:56:21.677941Z"
    }
   },
   "cell_type": "code",
   "source": "arr - arr",
   "id": "a84009ca10d81058",
   "outputs": [
    {
     "data": {
      "text/plain": [
       "array([[0., 0., 0.],\n",
       "       [0., 0., 0.]])"
      ]
     },
     "execution_count": 12,
     "metadata": {},
     "output_type": "execute_result"
    }
   ],
   "execution_count": 12
  },
  {
   "metadata": {
    "ExecuteTime": {
     "end_time": "2025-06-11T03:56:21.874530Z",
     "start_time": "2025-06-11T03:56:21.867042Z"
    }
   },
   "cell_type": "code",
   "source": "1 / arr",
   "id": "8cd18ecac5a15764",
   "outputs": [
    {
     "data": {
      "text/plain": [
       "array([[1.    , 0.5   , 0.3333],\n",
       "       [0.25  , 0.2   , 0.1667]])"
      ]
     },
     "execution_count": 13,
     "metadata": {},
     "output_type": "execute_result"
    }
   ],
   "execution_count": 13
  },
  {
   "metadata": {
    "ExecuteTime": {
     "end_time": "2025-06-11T03:56:22.050705Z",
     "start_time": "2025-06-11T03:56:22.043654Z"
    }
   },
   "cell_type": "code",
   "source": [
    "arr2 = np.array([[0., 4., 1.], [7., 2., 12.]])\n",
    "\n",
    "# 比较操作\n",
    "arr > arr2"
   ],
   "id": "945e05c9e6dd5dcf",
   "outputs": [
    {
     "data": {
      "text/plain": [
       "array([[ True, False,  True],\n",
       "       [False,  True, False]])"
      ]
     },
     "execution_count": 14,
     "metadata": {},
     "output_type": "execute_result"
    }
   ],
   "execution_count": 14
  },
  {
   "metadata": {},
   "cell_type": "markdown",
   "source": [
    "# numpy数组的切片和索引\n",
    "\n",
    "如果你想得到ndarray切片的副本而非视图，就需要显式地复制数组，例如 `arr[5:8].copy()`\n",
    "\n",
    "布尔型数组"
   ],
   "id": "58105bcb604650c9"
  },
  {
   "metadata": {
    "ExecuteTime": {
     "end_time": "2025-06-11T03:56:22.196514Z",
     "start_time": "2025-06-11T03:56:22.190533Z"
    }
   },
   "cell_type": "code",
   "source": [
    "arr3 = np.arange(10)\n",
    "arr3"
   ],
   "id": "8f1e5c54b3746b69",
   "outputs": [
    {
     "data": {
      "text/plain": [
       "array([0, 1, 2, 3, 4, 5, 6, 7, 8, 9])"
      ]
     },
     "execution_count": 15,
     "metadata": {},
     "output_type": "execute_result"
    }
   ],
   "execution_count": 15
  },
  {
   "metadata": {
    "ExecuteTime": {
     "end_time": "2025-06-11T03:56:22.306214Z",
     "start_time": "2025-06-11T03:56:22.299945Z"
    }
   },
   "cell_type": "code",
   "source": "arr3[5]",
   "id": "80ab1909dd91b735",
   "outputs": [
    {
     "data": {
      "text/plain": [
       "5"
      ]
     },
     "execution_count": 16,
     "metadata": {},
     "output_type": "execute_result"
    }
   ],
   "execution_count": 16
  },
  {
   "metadata": {
    "ExecuteTime": {
     "end_time": "2025-06-11T03:56:22.438707Z",
     "start_time": "2025-06-11T03:56:22.432447Z"
    }
   },
   "cell_type": "code",
   "source": "arr3[5:8]",
   "id": "9991d81da1c0eb05",
   "outputs": [
    {
     "data": {
      "text/plain": [
       "array([5, 6, 7])"
      ]
     },
     "execution_count": 17,
     "metadata": {},
     "output_type": "execute_result"
    }
   ],
   "execution_count": 17
  },
  {
   "metadata": {
    "ExecuteTime": {
     "end_time": "2025-06-11T03:56:22.468307Z",
     "start_time": "2025-06-11T03:56:22.463042Z"
    }
   },
   "cell_type": "code",
   "source": [
    "arr3[5:8] = 12\n",
    "arr3"
   ],
   "id": "f8c10ed1518916cc",
   "outputs": [
    {
     "data": {
      "text/plain": [
       "array([ 0,  1,  2,  3,  4, 12, 12, 12,  8,  9])"
      ]
     },
     "execution_count": 18,
     "metadata": {},
     "output_type": "execute_result"
    }
   ],
   "execution_count": 18
  },
  {
   "metadata": {
    "ExecuteTime": {
     "end_time": "2025-06-11T03:56:22.511270Z",
     "start_time": "2025-06-11T03:56:22.503666Z"
    }
   },
   "cell_type": "code",
   "source": [
    "arr3_slice = arr3[5:8]\n",
    "\n",
    "print(type(arr3_slice))\n",
    "\n",
    "# arr3_slice = 10\n",
    "arr3_slice[:] = 10\n",
    "arr3"
   ],
   "id": "1b94e8faef342052",
   "outputs": [
    {
     "name": "stdout",
     "output_type": "stream",
     "text": [
      "<class 'numpy.ndarray'>\n"
     ]
    },
    {
     "data": {
      "text/plain": [
       "array([ 0,  1,  2,  3,  4, 10, 10, 10,  8,  9])"
      ]
     },
     "execution_count": 19,
     "metadata": {},
     "output_type": "execute_result"
    }
   ],
   "execution_count": 19
  },
  {
   "metadata": {
    "ExecuteTime": {
     "end_time": "2025-06-11T03:56:22.565180Z",
     "start_time": "2025-06-11T03:56:22.557128Z"
    }
   },
   "cell_type": "code",
   "source": [
    "# 布尔型数组\n",
    "\n",
    "names = np.array([\"Bob\", \"Joe\", \"Will\", \"Bob\", \"Will\", \"Joe\", \"Joe\"])\n",
    "data = np.array([[4, 7], [0, 2], [-5, 6], [0, 0], [1, 2],\n",
    "                 [-12, -4], [3, 4]])\n",
    "\n",
    "names"
   ],
   "id": "7d2a3d6660d35846",
   "outputs": [
    {
     "data": {
      "text/plain": [
       "array(['Bob', 'Joe', 'Will', 'Bob', 'Will', 'Joe', 'Joe'], dtype='<U4')"
      ]
     },
     "execution_count": 20,
     "metadata": {},
     "output_type": "execute_result"
    }
   ],
   "execution_count": 20
  },
  {
   "metadata": {
    "ExecuteTime": {
     "end_time": "2025-06-11T03:56:22.610103Z",
     "start_time": "2025-06-11T03:56:22.603445Z"
    }
   },
   "cell_type": "code",
   "source": "data",
   "id": "7c3457799a7217bc",
   "outputs": [
    {
     "data": {
      "text/plain": [
       "array([[  4,   7],\n",
       "       [  0,   2],\n",
       "       [ -5,   6],\n",
       "       [  0,   0],\n",
       "       [  1,   2],\n",
       "       [-12,  -4],\n",
       "       [  3,   4]])"
      ]
     },
     "execution_count": 21,
     "metadata": {},
     "output_type": "execute_result"
    }
   ],
   "execution_count": 21
  },
  {
   "metadata": {
    "ExecuteTime": {
     "end_time": "2025-06-11T03:56:22.717601Z",
     "start_time": "2025-06-11T03:56:22.709720Z"
    }
   },
   "cell_type": "code",
   "source": [
    "bob_name = names == 'Bob'\n",
    "bob_name"
   ],
   "id": "7600df00fed46f47",
   "outputs": [
    {
     "data": {
      "text/plain": [
       "array([ True, False, False,  True, False, False, False])"
      ]
     },
     "execution_count": 22,
     "metadata": {},
     "output_type": "execute_result"
    }
   ],
   "execution_count": 22
  },
  {
   "metadata": {
    "ExecuteTime": {
     "end_time": "2025-06-11T03:56:22.934327Z",
     "start_time": "2025-06-11T03:56:22.929087Z"
    }
   },
   "cell_type": "code",
   "source": "data[bob_name]",
   "id": "ae1e3413d3ef5e68",
   "outputs": [
    {
     "data": {
      "text/plain": [
       "array([[4, 7],\n",
       "       [0, 0]])"
      ]
     },
     "execution_count": 23,
     "metadata": {},
     "output_type": "execute_result"
    }
   ],
   "execution_count": 23
  },
  {
   "metadata": {
    "ExecuteTime": {
     "end_time": "2025-06-11T03:56:23.009186Z",
     "start_time": "2025-06-11T03:56:23.002730Z"
    }
   },
   "cell_type": "code",
   "source": "data[bob_name, 1:]",
   "id": "d58c9e05bbe820d",
   "outputs": [
    {
     "data": {
      "text/plain": [
       "array([[7],\n",
       "       [0]])"
      ]
     },
     "execution_count": 24,
     "metadata": {},
     "output_type": "execute_result"
    }
   ],
   "execution_count": 24
  },
  {
   "metadata": {
    "ExecuteTime": {
     "end_time": "2025-06-11T03:56:23.369884Z",
     "start_time": "2025-06-11T03:56:23.363072Z"
    }
   },
   "cell_type": "code",
   "source": "data[bob_name, 1]",
   "id": "bd3a012c97a385d2",
   "outputs": [
    {
     "data": {
      "text/plain": [
       "array([7, 0])"
      ]
     },
     "execution_count": 25,
     "metadata": {},
     "output_type": "execute_result"
    }
   ],
   "execution_count": 25
  },
  {
   "metadata": {
    "ExecuteTime": {
     "end_time": "2025-06-11T03:56:23.547668Z",
     "start_time": "2025-06-11T03:56:23.541162Z"
    }
   },
   "cell_type": "code",
   "source": [
    "not_bob_name = ~bob_name\n",
    "not_bob_name"
   ],
   "id": "a481f096fff25513",
   "outputs": [
    {
     "data": {
      "text/plain": [
       "array([False,  True,  True, False,  True,  True,  True])"
      ]
     },
     "execution_count": 26,
     "metadata": {},
     "output_type": "execute_result"
    }
   ],
   "execution_count": 26
  },
  {
   "metadata": {
    "ExecuteTime": {
     "end_time": "2025-06-11T03:56:23.708817Z",
     "start_time": "2025-06-11T03:56:23.701247Z"
    }
   },
   "cell_type": "code",
   "source": "data[not_bob_name]",
   "id": "392f6d914630f4cd",
   "outputs": [
    {
     "data": {
      "text/plain": [
       "array([[  0,   2],\n",
       "       [ -5,   6],\n",
       "       [  1,   2],\n",
       "       [-12,  -4],\n",
       "       [  3,   4]])"
      ]
     },
     "execution_count": 27,
     "metadata": {},
     "output_type": "execute_result"
    }
   ],
   "execution_count": 27
  },
  {
   "metadata": {
    "ExecuteTime": {
     "end_time": "2025-06-11T03:56:23.815291Z",
     "start_time": "2025-06-11T03:56:23.805742Z"
    }
   },
   "cell_type": "code",
   "source": [
    "mask = (names == 'Bob') | (names == 'Will')\n",
    "mask"
   ],
   "id": "de8b35fabc125e94",
   "outputs": [
    {
     "data": {
      "text/plain": [
       "array([ True, False,  True,  True,  True, False, False])"
      ]
     },
     "execution_count": 28,
     "metadata": {},
     "output_type": "execute_result"
    }
   ],
   "execution_count": 28
  },
  {
   "metadata": {
    "ExecuteTime": {
     "end_time": "2025-06-11T03:56:23.974841Z",
     "start_time": "2025-06-11T03:56:23.968002Z"
    }
   },
   "cell_type": "code",
   "source": "data[mask]",
   "id": "3a836a914f05cd17",
   "outputs": [
    {
     "data": {
      "text/plain": [
       "array([[ 4,  7],\n",
       "       [-5,  6],\n",
       "       [ 0,  0],\n",
       "       [ 1,  2]])"
      ]
     },
     "execution_count": 29,
     "metadata": {},
     "output_type": "execute_result"
    }
   ],
   "execution_count": 29
  },
  {
   "metadata": {},
   "cell_type": "code",
   "outputs": [],
   "execution_count": null,
   "source": "",
   "id": "f0d7beccf269d0fe"
  }
 ],
 "metadata": {
  "kernelspec": {
   "display_name": "Python 3 (ipykernel)",
   "language": "python",
   "name": "python3"
  },
  "language_info": {
   "codemirror_mode": {
    "name": "ipython",
    "version": 3
   },
   "file_extension": ".py",
   "mimetype": "text/x-python",
   "name": "python",
   "nbconvert_exporter": "python",
   "pygments_lexer": "ipython3",
   "version": "3.11.4"
  }
 },
 "nbformat": 4,
 "nbformat_minor": 5
}
